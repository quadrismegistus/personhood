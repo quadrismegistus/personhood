{
 "cells": [
  {
   "cell_type": "markdown",
   "metadata": {},
   "source": [
    "# Personification Chapter Notes"
   ]
  },
  {
   "cell_type": "markdown",
   "metadata": {},
   "source": [
    "## Syntax of Agency\n",
    "\n",
    "### What's been done (1/26/2019)\n",
    "1. Have [syntactically parsed](http://localhost:8888/lab/tree/workspace%2Fsyntax%2Fspacy_syntax.ipynb) all ~330K of Chadwyck-Healey digitized poems (using Slingshot on MPI, synced here via `wsync`).\n",
    "\n",
    "2. Have then [\"computed the agency\"](http://localhost:8888/lab/tree/workspace%2Fsyntax%2Fcompute_agency.ipynb) for these syntactic data, first separating poems into the quarter-century in which the poet was 30 years old, resulting in this distribution:<table><tr><th>quarter-century</th><th>#poets</th><th>#poems</th></tr><tr><td>1500</td><td>17</td><td>146</td></tr><tr><td>1525</td><td>40</td><td>2017</td></tr><tr><td>1550</td><td>57</td><td>1767</td></tr><tr><td>1575</td><td>125</td><td>9199</td></tr><tr><td>1600</td><td>149</td><td>12585</td></tr><tr><td>1625</td><td>145</td><td>6791</td></tr><tr><td>1650</td><td>106</td><td>9350</td></tr><tr><td>1675</td><td>74</td><td>4258</td></tr><tr><td>1700</td><td>92</td><td>6620</td></tr><tr><td>1725</td><td>89</td><td>12141</td></tr><tr><td>1750</td><td>93</td><td>7661</td></tr><tr><td>1775</td><td>111</td><td>8157</td></tr><tr><td>1800</td><td>148</td><td>22399</td></tr><tr><td>1825</td><td>212</td><td>37536</td></tr><tr><td>1850</td><td>206</td><td>37276</td></tr><tr><td>1875</td><td>142</td><td>29198</td></tr><tr><td>1900</td><td>96</td><td>16205</td></tr><tr><td>1925</td><td>97</td><td>18439</td></tr><tr><td>1950</td><td>115</td><td>25709</td></tr><tr><td>1975</td><td>146</td><td>11730</td></tr></table>\n",
    "\n",
    "3. And then counted the number of times each word is a noun, and each time a subject, in all its instances for that quarter-century:\n",
    "    * **Agency Index (for word x) = (its % of all subject-instances) / (its % of all noun-instances)**\n",
    "    * Possissiveness Index? (for word x) = (its % of all possessive-instances) / (its % of all noun-instances)<br/><br/>\n",
    "\n",
    "4. And then [generated some post-hoc data](http://localhost:8888/lab/tree/workspace%2Fsyntax%2Fcorrelations.ipynb), e.g. k-clustering the trend lines for the agency index."
   ]
  },
  {
   "cell_type": "markdown",
   "metadata": {},
   "source": [
    "### What's been found (1/26/19)"
   ]
  },
  {
   "cell_type": "markdown",
   "metadata": {},
   "source": [
    "#### 1. Abstractions rise and fall in agency independently of frequency\n",
    "\n",
    "<center><img src=\"../../workspace/syntax/figures/The Graph 2.png\" width=600></center>"
   ]
  },
  {
   "cell_type": "markdown",
   "metadata": {},
   "source": [
    "#### 2. There are distinct historical trends in the agency index\n",
    "Used [K-means clustering](http://localhost:8888/lab/tree/workspace%2Fsyntax%2Fcorrelations.ipynb) to identify five types of trends for agency index.\n",
    "\n",
    "Here are some indicative examples:\n",
    "\n",
    "<center><img src=\"../../workspace/syntax/figures/Word Highlighter 3.png\" width=500></center>\n",
    "\n",
    "[Other charts commented out.]\n",
    "\n",
    "<!--\n",
    "-------\n",
    "\n",
    "Here are all the highly significant words (correlates with cluster-trend [p-value<0.001]):\n",
    "\n",
    "<center><img src=\"../../workspace/syntax/figures/KClusters2.png\" width=600></center>\n",
    "\n",
    "-------\n",
    "\n",
    "Here are only the highly significant abstract words:\n",
    "\n",
    "<center><img src=\"../../workspace/syntax/figures/KClusters abstract.png\" width=600></center>\n",
    "\n",
    "-------\n",
    "\n",
    "Here are only the highly significant concrete words:\n",
    "\n",
    "<center><img src=\"../../workspace/syntax/figures/KClusters concrete.png\" width=600></center>\n",
    "-->\n",
    "\n",
    "**Interpretation/hypothesis**: Traditional abstractions (mercy, pride) lose agency; social abstractions (commerce, nation) rise and fall in agency; concrete words, especially body parts (objective but personal), rise in agency."
   ]
  },
  {
   "cell_type": "markdown",
   "metadata": {},
   "source": [
    "-----\n",
    "\n",
    "## Roadmap from here\n",
    "\n",
    "1. Toward personification\n",
    "    * Not just agency of verbs, but *which* verbs? Which possessed nouns? Which modifying adjectives?\n",
    "    * To do so, need to find the verbs, nouns, adjectives *distinctive of human persons.*\n",
    "    * From the syntax of agency to the *grammar* of personhood.\n",
    "    \n",
    "    * *Method A*: Use word2vec, to see if there's a history in a \"humanness\" vector.\n",
    "    \n",
    "    * *Method B*: Use classification, to classify the humanness of nouns: based only on a set of nouns we call human (supervised), and the remainder (controlling for animals?).\n",
    "        * Use agency index as feature: how integral is this to predicting humanness?\n",
    "        * Use humanness vector, or semantic profile more generally, to help predict humanness?\n",
    "<br/><br/>    \n",
    "2. Toward other genres\n",
    "    * Are these results dependent on poetry? How widespread are they?\n",
    "    * Both agency and personhood.\n",
    "<br/><br/> \n",
    "3. Annotate samples\n",
    "    * Read random sample of instances of abstract nouns, and annotate whether 'personified' or not.\n",
    "    * Could then count these instances as estimates of pervasiveness of personification across history.\n",
    "    * As well as use the annotations as training data somehow: to see if a classifier could guess individual *instances* of personification?\n",
    "<br/><br/> \n",
    "\n",
    "    \n",
    "-----"
   ]
  },
  {
   "cell_type": "markdown",
   "metadata": {},
   "source": [
    "## Semantics of Personhood (word2vec)"
   ]
  },
  {
   "cell_type": "markdown",
   "metadata": {},
   "source": [
    "### What's been done (2/3/2019)\n",
    "\n",
    "* Brought *lit* onto github and onto Sherlock (!) [see notebook on lit]\n",
    "* On Sherlock, saved txt versions of ChadwyckPoetry (normalizing spelling) of all poems in Chadwyck Poetry (1/28)\n",
    "* On Sherlock, saved skipgram versions of ChadwyckPoetry texts (per quarter-century when author is 30)\n",
    "* On Sherlock, generated 25 word2vec models per quarter-century\n",
    "* Downloaded these models and analyzed them in the [Semantics of Personhood notebook](http://localhost:8888/lab/tree/Dissertation%2Fagency%2FSemanticsOfPersonhood.ipynb)"
   ]
  },
  {
   "cell_type": "markdown",
   "metadata": {},
   "source": [
    "### What's been found (2/3/2019)\n",
    "\n",
    "#### 1. Humanness index showed ambiguous results\n",
    "\n",
    "This is those words' association with [two humanness vectors across Chadwyck Poetry]:\n",
    "\n",
    "<center><img src=\"figures/Cosine similarity with two human vectors, V(Human) and V(Human-Object).png\" width=500></center>\n",
    "<!-- ECCO graph commented out: <center><img src=\"figures/Cosine similarity with human nouns v2.png\" width=600></center> -->\n",
    "\n",
    "It's not a very close match (humanness and agency indices), in some cases downright moving in opposite directions. Which, suggests either an interesting independence between the agency index and humanness index, or that the humanness index is bogus? I'm more inclined to trust the agency index: it's given me more sensible results.\n",
    "\n",
    "#### 2. Other results of [Semantics of Personhood notebook](http://localhost:8888/lab/tree/Dissertation%2Fagency%2FSemanticsOfPersonhood.ipynb)"
   ]
  },
  {
   "cell_type": "markdown",
   "metadata": {},
   "source": [
    "## Grammar of Personhood"
   ]
  },
  {
   "cell_type": "markdown",
   "metadata": {},
   "source": [
    "### Main notebook: [Grammar Of Personhood](http://localhost:8888/lab/tree/Dissertation%2Fagency%2FGrammarOfPersonhood.ipynb)\n",
    "\n",
    "So far I've measured an [\"agency index\"](https://twitter.com/quadrismegistus/status/1059305496211931136), trying to find trends in how words gain/lose (syntactic) \"agency\" over time. This has been interesting, but what's missing is that personifications don't just do things (as the agency index captures), they do *human* things (\"let not Ambition *mock*\") and have *human* things (\"Honour's voice\").\n",
    "\n",
    "So I'm trying to move on from this 'syntax of agency' to a broader 'grammar of personhood'. I took a failed stopover at the 'semantics of personhood' via word2vec: my 'human words' vector didn't end up being that interesting an index for other words, i.e. didn't seem to capture personification effects. Now I'm moving back to the syntactic BookNLP-style data (subject-verb, modifier-noun, etc) I've collected about the nouns for the Chadwyck Healey poetry collections.\n",
    "\n",
    "I'm wondering whether a classifier to separate human vs. non-human (maybe human vs. object) words by way of the distribution of other words ('collocated' by syntax): and then use that classifier to estimate the 'humanness' of all words, not just those in the cross-validation experiment? I did this in a smaller related project on animal stories, and according to the cross-validation results, the model found it easier to separate humans and animals in novels than it did in these anthropomorphic animal stories, which seemed right. But here I want to use a classifier to estimate the humanness of all, even non-human/object words like abstract nouns, to see if that changes over time?"
   ]
  },
  {
   "cell_type": "markdown",
   "metadata": {},
   "source": [
    "### Results\n",
    "\n",
    "..."
   ]
  }
 ],
 "metadata": {
  "kernelspec": {
   "display_name": "Python 2",
   "language": "python",
   "name": "python2"
  },
  "language_info": {
   "codemirror_mode": {
    "name": "ipython",
    "version": 2
   },
   "file_extension": ".py",
   "mimetype": "text/x-python",
   "name": "python",
   "nbconvert_exporter": "python",
   "pygments_lexer": "ipython2",
   "version": "2.7.15"
  }
 },
 "nbformat": 4,
 "nbformat_minor": 2
}
